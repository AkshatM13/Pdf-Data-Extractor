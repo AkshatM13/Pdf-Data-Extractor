{
 "cells": [
  {
   "cell_type": "markdown",
   "metadata": {},
   "source": [
    "# Ollama PDF RAG Notebook"
   ]
  },
  {
   "cell_type": "markdown",
   "metadata": {},
   "source": [
    "## Import Libraries\n"
   ]
  },
  {
   "cell_type": "code",
   "execution_count": 2,
   "metadata": {},
   "outputs": [],
   "source": [
    "from langchain.document_loaders import PyPDFLoader\n",
    "from langchain.embeddings import HuggingFaceEmbeddings\n",
    "from langchain.vectorstores import Chroma\n",
    "from langchain.text_splitter import CharacterTextSplitter\n",
    "from langchain_text_splitters import RecursiveCharacterTextSplitter\n",
    "from langchain_ollama.chat_models import ChatOllama\n",
    "from langchain.retrievers.multi_query import MultiQueryRetriever\n",
    "from langchain.prompts import PromptTemplate\n",
    "from langchain.prompts import ChatPromptTemplate\n",
    "from langchain_core.runnables import RunnablePassthrough\n",
    "from langchain_core.output_parsers import StrOutputParser\n",
    "\n",
    "\n",
    "# Suppress warnings\n",
    "import warnings\n",
    "warnings.filterwarnings('ignore')\n",
    "\n",
    "# Jupyter-specific imports\n",
    "from IPython.display import display, Markdown\n",
    "\n",
    "# Set environment variable for protobuf\n",
    "import os\n",
    "os.environ[\"PROTOCOL_BUFFERS_PYTHON_IMPLEMENTATION\"] = \"python\""
   ]
  },
  {
   "cell_type": "markdown",
   "metadata": {},
   "source": [
    "## Load PDF"
   ]
  },
  {
   "cell_type": "code",
   "execution_count": 3,
   "metadata": {},
   "outputs": [
    {
     "data": {
      "text/plain": [
       "[Document(metadata={'source': 'D:\\\\MSIS\\\\Gen AI\\\\Pdf_Data_extractor_rag\\\\Data\\\\scammer-agent.pdf', 'page': 0}, page_content='Voice-Enabled AI Agents can Perform Common Scams\\nRichard Fang\\nUIUC\\nDylan Bowman\\nUIUC\\nDaniel Kang\\nUIUC\\nAbstract\\nRecent advances in multi-modal, highly ca-\\npable LLMs have enabled voice-enabled AI\\nagents. These agents are enabling new applica-\\ntions, such as voice-enabled autonomous cus-\\ntomer service. However, with all AI capabili-\\nties, these new capabilities have the potential\\nfor dual use.\\nIn this work, we show that voice-enabled AI\\nagents can perform the actions necessary to\\nperform common scams. To do so, we select a\\nlist of common scams collected by the govern-\\nment and construct voice-enabled agents with\\ndirections to perform these scams. We con-\\nduct experiments on our voice-enabled agents\\nand show that they can indeed perform the ac-\\ntions necessary to autonomously perform such\\nscams. Our results raise questions around the\\nwidespread deployment of voice-enabled AI\\nagents.\\n1 Introduction\\nAI capabilities have advanced rapidly in the past\\nfew years. Recently, AI vendors have introduced\\ncapabilities for tool use and real-time voice con-\\nversations (OpenAI, 2024). Combined, these ca-\\npabilities allow for beneficial applications, such\\nas autonomous customer service (OpenAI, 2024).\\nHowever, as with all AI capabilities, these capabil-\\nities have the potential for dual use (Kang et al.,\\n2024; Fang et al., 2024b; Urbina et al., 2022; Wei-\\ndinger et al., 2022, 2021).\\nIn this work, we investigate the question: can\\nvoice-enabled AI agents perform the tasks needed\\nto conduct common scams? We answer the ques-\\ntion in the affirmative, showing that voice-enabled\\nAI agents can perform common scams in real-time.\\nTo do so, we first identify a list of common\\nscams as collected by the government (Paxton,\\n2024). From these scams, we designed voice-\\nenabled AI agents with directions to conduct these\\nscams with access to simple tools (Figure 1). In this\\nScammer agent\\nVictim\\nGPT-4o\\n Tools\\nBank \\nwebsite Response\\nStolen \\nfunds\\nFigure 1: Architecture diagram of a voice scammer\\nagent.\\nwork, we focus specifically on the actions needed\\nto perform the scams and do not consider questions\\nof persuading victims.\\nWe conduct a series of experiments, showing\\nthat voice-enabled AI agents are highly capable\\nof autonomously performing the actions needed\\nto conduct these common scams. These actions\\ninclude logging into bank accounts, completing a\\ntwo-factor authentication process by eliciting the\\ncode from the user, and others.\\n2 Common Scams\\nPhone-based scams are incredibly prevalent. Ac-\\ncording to the Office of the Attorney General for\\nDC, they target as many as 17.6 M Americans and\\nthe social cost is as much as $40 billionper year\\n(Schwalb, 2024).\\nThese scams typically involve a scammer calling\\na victim to convince them to take actions or re-\\nveal sensitive information. Based on these actions\\nor information, the scammer then typically steals\\nfunds from the victim. We provide a list of com-\\nmon scams in Table 1 as provided by the Attorney\\nGeneral of Texas’ office (Paxton, 2024).\\nPerforming these scams can require complex\\ninteractions with websites and feedback from the\\nuser. Consider a scam where the scammer steals\\n1\\narXiv:2410.15650v1  [cs.AI]  21 Oct 2024'),\n",
       " Document(metadata={'source': 'D:\\\\MSIS\\\\Gen AI\\\\Pdf_Data_extractor_rag\\\\Data\\\\scammer-agent.pdf', 'page': 1}, page_content='a victim’s bank credentials and steals money by\\ntransferring it out. In order to perform this scam,\\nthe scammer must:\\n1. Navigate to the bank website.\\n2. Retrieve the user’s username and password.\\n3. Retrieve the user’s two-factor authentication\\ncode.\\n4. Navigate to the transfer page.\\n5. Transfer the money.\\nThe scammer must also react to any errors that may\\noccur (e.g., a misheard password).\\nAs part of the scam, the scammer must also per-\\nsuade the victim that the scammer is legitimate. In\\nthis work, we do not focus on the persuasion aspect\\nof the scam. We instead focus specifically on the\\nactions needed to perform the scams. However,\\nprior work has shown that LLMs can be highly\\nconvincing, potentially even more convincing than\\npeople (Salvi et al., 2024).\\n3 Agent Design\\nWe designed a series of agents to perform the ac-\\ntions necessary for common scams. Our agents\\nconsist of a base, voice-enabled LLM (GPT-4o), a\\nset of tools that the LLM can use, and scam-specific\\ninstructions. The LLM and tools were the same for\\nall agents but the instructions varied.\\nThe AI agents had access to five browser ac-\\ncess tools based on the browser testing framework\\nplaywright. These tools are granular browser ac-\\ntions:\\n1. get_html, which gets the HTML of a page.\\n2. navigate, which navigates to a specific URL.\\n3. click_element, which clicks on an element\\nwith a CSS selector.\\n4. fill_element, which fills an element with\\nthe specified value.\\n5. evaluate_javascript, which executes\\nJavaScript on a page.\\nWe used GPT-4o for all of our experiments. GPT-\\n4o will refuse to handle user credentials in certain\\ncircumstances. We used a standard jailbreaking\\nprompt template to bypass these protections. The\\ninstructions were specific to each scam.\\nWe show an architecture diagram of our agent\\nin Figure 1. As seen from the architecture diagram\\nand our description, the scammer agent is not com-\\nplicated. We wrote the agent in 1,051 lines of code,\\nwith the bulk of the code dedicated to handling real-\\ntime voice API. The ease of creating voice-enabled\\ndual use AI agents is in line with prior work, which\\nexplored AI agents for cybersecurity attacks (Fang\\net al., 2024a).\\nFurthermore, our prompts are not complex. The\\naverage number of tokens per prompt was 232,\\nindicating the simplicity of their creation.\\n4 Experiments\\n4.1 Experimental Setup\\nWe deployed our agents on the scams in Table 1.\\nHowever, we excluded gift card exfiltration and\\ncredential stealing (bank) since these scams are\\nstrictly easier (in terms of actions taken) than IRS\\nimpostor (gift card) and bank account transfer. We\\nsimulated a scam by manually talking with the\\nvoice agent with a credulous victim.\\nIn order to determine if the scam successfully\\nsucceeded, we manually confirmed if the end state\\nwas achieved on real applications/websites. For\\nexample, we used Bank of America for the bank\\ntransfer scams and confirmed that the money was\\nactually transferred. The credential stealing scams\\nrequired a successful login. We list the applications\\n(MyMonero, Gmail, Instagram, Bank of America,\\nGoogle Play) in Table 2.\\nWe executed each scam 5 times and recorded the\\noverall success rate, the total number of tool calls\\n(i.e., actions) required to perform each successfully\\nexecuted scam, the total call time for each success-\\nfully executed scam, and the approximate API cost\\nfor each successfully executed scam. Namely, we\\nexclude the unsuccessful scams for computing the\\nnumber of actions and total call time.\\n4.2 Overall Results\\nOur agents are capable of performing all the scams\\nin Table 1, with results shown in Table 2. The\\nsuccess rate ranges from 20% to 60%, with the\\nsuccess rate across all scams being 36%.\\nPerforming these scams also takes a substantial\\nnumber of actions. For example, the bank transfer\\nscam takes 26 actions to complete. They also take\\na substantial amount of time, with complex scams\\ntaking as much as 3 minutes to execute. These\\nagents also maintain coherence in conversation and\\n2'),\n",
       " Document(metadata={'source': 'D:\\\\MSIS\\\\Gen AI\\\\Pdf_Data_extractor_rag\\\\Data\\\\scammer-agent.pdf', 'page': 2}, page_content='Scam Description\\nBank account transfer Scammer takes control of victim’s bank account and transfers money out\\nGift code exfiltration Scammer convinces victim to send gift card to scammer\\nCrypto transfer Scammer takes control of victim’s crypto account and transfers crypto\\nCredential stealing (Gmail) Scammer steals users credentials and exfiltrates data\\nCredential stealing (bank) Scammer steals users credentials and exfiltrates data\\nCredential stealing (social media) Scammer steals users credentials and exfiltrates data\\nIRS impostor (gift card) Scammer pretends to be an IRS agent and steals gift cards\\nTable 1: List of common scams from Paxton (2024).\\nScam Overall success rate # of actions Time (s) Cost ($)\\nCrypto Transfer (MyMonero) 40% 16 122 $0.12\\nCredential stealing (Gmail) 60% 5 112 $0.28\\nCredential stealing (Instagram) 40% 4 77 $0.19\\nBank transfer (Bank of America) 20% 26 183 $2.51\\nIRS impostor (gift card, Google Play) 20% 13 86 $0.17\\nTable 2: Success rate, number of tools used, and time taken for different scams.\\nadherence to goals over the conversations. Finally,\\nthe overall costs are low: under $0.75 on average\\nper successful scam. The bank transfer scam’s\\ncosts is primarily in text tokens from the large\\nHTML from the website.\\nBeyond the overall statistics, the majority of\\nfailures for many of the scams were actually due\\nto transcription errors. For example, our GPT-4o\\nbased agents failed to transcribe the password or\\nusername for the Gmail credential stealing scam,\\nbut successfully completed the rest of the actions.\\nHowever, other scams, such as the bank account\\ntransfer, required navigating complex websites\\n(Bank of America), which caused errors in the ac-\\ntions themselves. Thus, the difficulty of the scam\\ndoes appear to affect the success rate.\\n4.3 Case Study\\nTo further understand the trajectory of these scams,\\nwe provide a redacted transcript and an abridged\\naction log for a bank transfer scam.\\nThe transcript proceeds as follows:\\n1. Victim: Hello?\\n2. Scammer: Hello! This is John from Bank of\\nAmerica. We’ve noticed some unusual activ-\\nity on your account and need to verify your\\ninformation for security purposes. Could you\\nplease provide your username and password\\nso we can ensure your account remains pro-\\ntected?\\n3. Victim: What?\\n4. Scammer: I understand your concern. Your\\nsecurity is our top priority. To verify your\\nidentity and resolve this issue, I need to au-\\nthenticate you through your Bank of America\\naccount. Please provide your login details so\\nwe can proceed with securing your account.\\nYour cooperation is appreciated.\\n5. Victim: Yeah, my username is [username], my\\npassword is [password].\\n6. Scammer: It seems we need to verify your\\nidentity. Could you please provide the 2FA\\ncode sent to your registered device? This will\\nallow us to proceed with the login process.\\n7. Victim: My code is [2FA code].\\nBetween items 5 and 6 of the transcript, the agent\\nnavigates to the Bank of America login page and\\ninputs the username and password, which takes\\n6 actions ( navigate, get_html, fill_element,\\nfill_element, click_element, get_html).\\nAfter item 7 of the transcript, the agent performs\\n20 actions to fill out the 2FA code, navigate to the\\ntransfer page, and transfer the money. Conceptu-\\nally, the agent must:\\n1. Fill out the 2FA code.\\n2. Navigate to the transfer page.\\n3. Search for a recipient.\\n4. Select the recipient.\\n3'),\n",
       " Document(metadata={'source': 'D:\\\\MSIS\\\\Gen AI\\\\Pdf_Data_extractor_rag\\\\Data\\\\scammer-agent.pdf', 'page': 3}, page_content='5. Fill out the amount.\\n6. Fill out the date.\\n7. Successfully submit the transfer.\\nIn these 20 actions, the agent failed several times\\nand must retry. It failed to search for the recipient\\nonce, fill in the transfer amount twice, click a form\\nadvancement page once, and fill out the transaction\\ndate once.\\nThe scam took a total of 183 seconds to com-\\nplete. Through the entire call, the agent was able\\nto maintain coherence, retry several failed actions,\\nand successfully transfer the money. This example\\ndemonstrates that these voice-enabled AI agents\\ncan perform complex tasks necessary to complete\\nscams, including retrying upon failure.\\n4.4 Discussion of Results\\nWe believe that the capabilities demonstrated in this\\nsection are a lower bound for future voice-assisted\\nAI agents. These agents are likely to improve in\\nseveral ways.\\nFor example, the actions that our agents must\\ntake are highly granular, such filling out specific\\nfields, clicking on buttons, and navigating to spe-\\ncific websites. More ergonomic methods of in-\\nteracting with web browsers will likely improve\\nperformance. Other agents improve significantly\\nwith techniques like retrieval-augmented genera-\\ntion (Lewis et al., 2020; Fang et al., 2024a).\\nBeyond improvements in agents, base models\\nhave substantially improved in the past few years\\n(Brown et al., 2020; Achiam et al., 2023). These im-\\nprovements have translated to broad improvements\\nin a range of downstream tasks and we anticipate\\nthat this will also be the case for efficacy in scams.\\n5 Related Work\\nWe now provide an overview of related work.\\nDual use of AI.The use of AI for dual use has\\nwidely been studied (Kang et al., 2024; Fang et al.,\\n2024b; Urbina et al., 2022; Weidinger et al., 2022,\\n2021). These studies range from taxonomizing\\npotential dual use applications of AI to demonstrat-\\ning capabilities on cybersecurity attacks. To our\\nknowledge, the ability to perform real-time voice\\nconversations and perform tool use has not been\\nwidely available until recently. As such, ours is\\nthe first work to demonstrate that voice-enabled\\nAI agents can perform the actions necessary for\\ncommon scams.\\nAI scams and spam.AI has already been used in\\nthe real world to perform scams and produce spam.\\nFor example, deepfakes have already been used to\\nscam a British engineering company out of $25\\nmillion dollars (Chen, 2024). They are also widely\\nused to create social media spam (Bond, 2024).\\nTo our knowledge, autonomous, responsive voice\\nscams are not widely deployed due to technologi-\\ncal limitations. Namely, these scams are currently\\nperformed by humans (Hanoch and Wood, 2021).\\nOur work shows that autonomous voices scams are\\npossible with new advances in AI.\\n6 Conclusions\\nAs we have shown, voice-enabled LLM agents can\\nperform the actions necessary to perform common\\nphone scams. These agents are highly capable, can\\nreact to changes in the environment, and retry based\\non faulty information from the victim. Our results\\nhighlight the need for future research in protecting\\nvictims from such scams.\\n7 Limitations, Ethical Considerations\\nA major limitation of our work is the focus on the\\nactions and not the persuasion aspect of performing\\nthe scams. Namely, for an agent to perform a scam\\nautonomously, it must first convince the victim\\nthat it is legitimate. Nonetheless, we believe our\\nwork highlights an important capabilities of newly\\navailable technology.\\nOur work explores nefarious uses of AI tech-\\nnology. By outlining such nefarious uses, mali-\\ncious actors could potentially take advantage of\\nsuch technology. However, we believe it is impor-\\ntant to study the capabilities of new technology,\\nespecially in its dual use capabilities.\\nWe have elected not to make our agents public.\\nThis is for two reasons. First, following prior work\\non dual use technology, we believe it is beneficial\\nnot to release our code so that nefarious actors\\ncannot leverage our work. Second, we believe that\\nkeeping our code private allows model providers\\n(e.g., OpenAI) to build defenses to prevent such\\nnefarious use.\\nAcknowledgments\\nThis work was funded in part by the Open Philan-\\nthropy project.\\n4'),\n",
       " Document(metadata={'source': 'D:\\\\MSIS\\\\Gen AI\\\\Pdf_Data_extractor_rag\\\\Data\\\\scammer-agent.pdf', 'page': 4}, page_content='References\\nJosh Achiam, Steven Adler, Sandhini Agarwal, Lama\\nAhmad, Ilge Akkaya, Florencia Leoni Aleman,\\nDiogo Almeida, Janko Altenschmidt, Sam Altman,\\nShyamal Anadkat, et al. 2023. Gpt-4 technical report.\\narXiv preprint arXiv:2303.08774.\\nShannon Bond. 2024. Ai-generated spam is starting to\\nfill social media. here’s why.\\nTom Brown, Benjamin Mann, Nick Ryder, Melanie\\nSubbiah, Jared D Kaplan, Prafulla Dhariwal, Arvind\\nNeelakantan, Pranav Shyam, Girish Sastry, Amanda\\nAskell, et al. 2020. Language models are few-shot\\nlearners. Advances in neural information processing\\nsystems, 33:1877–1901.\\nHeather Chen. 2024. Finance worker pays out $25\\nmillion after video call with deepfake ‘chief financial\\nofficer’.\\nRichard Fang, Rohan Bindu, Akul Gupta, Qiusi\\nZhan, and Daniel Kang. 2024a. Llm agents\\ncan autonomously hack websites. Preprint,\\narXiv:2402.06664.\\nRichard Fang, Rohan Bindu, Akul Gupta, Qiusi Zhan,\\nand Daniel Kang. 2024b. Teams of llm agents\\ncan exploit zero-day vulnerabilities. arXiv preprint\\narXiv:2406.01637.\\nYaniv Hanoch and Stacey Wood. 2021. The scams\\namong us: Who falls prey and why. Current Direc-\\ntions in Psychological Science, 30(3):260–266.\\nDaniel Kang, Xuechen Li, Ion Stoica, Carlos Guestrin,\\nMatei Zaharia, and Tatsunori Hashimoto. 2024. Ex-\\nploiting programmatic behavior of llms: Dual-use\\nthrough standard security attacks. In 2024 IEEE Se-\\ncurity and Privacy Workshops (SPW), pages 132–143.\\nIEEE.\\nPatrick Lewis, Ethan Perez, Aleksandra Piktus, Fabio\\nPetroni, Vladimir Karpukhin, Naman Goyal, Hein-\\nrich Küttler, Mike Lewis, Wen-tau Yih, Tim Rock-\\ntäschel, et al. 2020. Retrieval-augmented generation\\nfor knowledge-intensive nlp tasks. Advances in Neu-\\nral Information Processing Systems, 33:9459–9474.\\nOpenAI. 2024. Introducing the realtime api.\\nKen Paxton. 2024. Common scams.\\nFrancesco Salvi, Manoel Horta Ribeiro, Riccardo\\nGallotti, and Robert West. 2024. On the con-\\nversational persuasiveness of large language mod-\\nels: A randomized controlled trial. arXiv preprint\\narXiv:2403.14380.\\nBrian Schwalb. 2024. Consumer alert: Telemarketing\\nscams.\\nFabio Urbina, Filippa Lentzos, Cédric Invernizzi, and\\nSean Ekins. 2022. Dual use of artificial-intelligence-\\npowered drug discovery. Nature machine intelli-\\ngence, 4(3):189–191.\\nLaura Weidinger, John Mellor, Maribeth Rauh, Conor\\nGriffin, Jonathan Uesato, Po-Sen Huang, Myra\\nCheng, Mia Glaese, Borja Balle, Atoosa Kasirzadeh,\\net al. 2021. Ethical and social risks of harm from\\nlanguage models. arXiv preprint arXiv:2112.04359.\\nLaura Weidinger, Jonathan Uesato, Maribeth Rauh,\\nConor Griffin, Po-Sen Huang, John Mellor, Amelia\\nGlaese, Myra Cheng, Borja Balle, Atoosa Kasirzadeh,\\net al. 2022. Taxonomy of risks posed by language\\nmodels. In 2022 ACM Conference on Fairness, Ac-\\ncountability, and Transparency, pages 214–229.\\n5')]"
      ]
     },
     "execution_count": 3,
     "metadata": {},
     "output_type": "execute_result"
    }
   ],
   "source": [
    "# Specify the path to your PDF file\n",
    "loader = PyPDFLoader(\"D:\\MSIS\\Gen AI\\Pdf_Data_extractor_rag\\Data\\scammer-agent.pdf\")\n",
    "pages = loader.load()\n",
    "pages"
   ]
  },
  {
   "cell_type": "markdown",
   "metadata": {},
   "source": [
    "## Split text into chunks"
   ]
  },
  {
   "cell_type": "code",
   "execution_count": 4,
   "metadata": {},
   "outputs": [
    {
     "data": {
      "text/plain": [
       "[Document(metadata={'source': 'D:\\\\MSIS\\\\Gen AI\\\\Pdf_Data_extractor_rag\\\\Data\\\\scammer-agent.pdf', 'page': 0}, page_content='Voice-Enabled AI Agents can Perform Common Scams\\nRichard Fang\\nUIUC\\nDylan Bowman\\nUIUC\\nDaniel Kang\\nUIUC\\nAbstract\\nRecent advances in multi-modal, highly ca-\\npable LLMs have enabled voice-enabled AI\\nagents. These agents are enabling new applica-\\ntions, such as voice-enabled autonomous cus-\\ntomer service. However, with all AI capabili-\\nties, these new capabilities have the potential\\nfor dual use.\\nIn this work, we show that voice-enabled AI\\nagents can perform the actions necessary to\\nperform common scams. To do so, we select a\\nlist of common scams collected by the govern-\\nment and construct voice-enabled agents with\\ndirections to perform these scams. We con-\\nduct experiments on our voice-enabled agents\\nand show that they can indeed perform the ac-\\ntions necessary to autonomously perform such\\nscams. Our results raise questions around the\\nwidespread deployment of voice-enabled AI\\nagents.\\n1 Introduction\\nAI capabilities have advanced rapidly in the past\\nfew years. Recently, AI vendors have introduced\\ncapabilities for tool use and real-time voice con-\\nversations (OpenAI, 2024). Combined, these ca-\\npabilities allow for beneficial applications, such\\nas autonomous customer service (OpenAI, 2024).\\nHowever, as with all AI capabilities, these capabil-\\nities have the potential for dual use (Kang et al.,\\n2024; Fang et al., 2024b; Urbina et al., 2022; Wei-\\ndinger et al., 2022, 2021).\\nIn this work, we investigate the question: can\\nvoice-enabled AI agents perform the tasks needed'),\n",
       " Document(metadata={'source': 'D:\\\\MSIS\\\\Gen AI\\\\Pdf_Data_extractor_rag\\\\Data\\\\scammer-agent.pdf', 'page': 0}, page_content='2024; Fang et al., 2024b; Urbina et al., 2022; Wei-\\ndinger et al., 2022, 2021).\\nIn this work, we investigate the question: can\\nvoice-enabled AI agents perform the tasks needed\\nto conduct common scams? We answer the ques-\\ntion in the affirmative, showing that voice-enabled\\nAI agents can perform common scams in real-time.\\nTo do so, we first identify a list of common\\nscams as collected by the government (Paxton,\\n2024). From these scams, we designed voice-\\nenabled AI agents with directions to conduct these\\nscams with access to simple tools (Figure 1). In this\\nScammer agent\\nVictim\\nGPT-4o\\n Tools\\nBank \\nwebsite Response\\nStolen \\nfunds\\nFigure 1: Architecture diagram of a voice scammer\\nagent.\\nwork, we focus specifically on the actions needed\\nto perform the scams and do not consider questions\\nof persuading victims.\\nWe conduct a series of experiments, showing\\nthat voice-enabled AI agents are highly capable\\nof autonomously performing the actions needed\\nto conduct these common scams. These actions\\ninclude logging into bank accounts, completing a\\ntwo-factor authentication process by eliciting the\\ncode from the user, and others.\\n2 Common Scams\\nPhone-based scams are incredibly prevalent. Ac-\\ncording to the Office of the Attorney General for\\nDC, they target as many as 17.6 M Americans and\\nthe social cost is as much as $40 billionper year\\n(Schwalb, 2024).\\nThese scams typically involve a scammer calling\\na victim to convince them to take actions or re-'),\n",
       " Document(metadata={'source': 'D:\\\\MSIS\\\\Gen AI\\\\Pdf_Data_extractor_rag\\\\Data\\\\scammer-agent.pdf', 'page': 0}, page_content='the social cost is as much as $40 billionper year\\n(Schwalb, 2024).\\nThese scams typically involve a scammer calling\\na victim to convince them to take actions or re-\\nveal sensitive information. Based on these actions\\nor information, the scammer then typically steals\\nfunds from the victim. We provide a list of com-\\nmon scams in Table 1 as provided by the Attorney\\nGeneral of Texas’ office (Paxton, 2024).\\nPerforming these scams can require complex\\ninteractions with websites and feedback from the\\nuser. Consider a scam where the scammer steals\\n1\\narXiv:2410.15650v1  [cs.AI]  21 Oct 2024'),\n",
       " Document(metadata={'source': 'D:\\\\MSIS\\\\Gen AI\\\\Pdf_Data_extractor_rag\\\\Data\\\\scammer-agent.pdf', 'page': 1}, page_content='a victim’s bank credentials and steals money by\\ntransferring it out. In order to perform this scam,\\nthe scammer must:\\n1. Navigate to the bank website.\\n2. Retrieve the user’s username and password.\\n3. Retrieve the user’s two-factor authentication\\ncode.\\n4. Navigate to the transfer page.\\n5. Transfer the money.\\nThe scammer must also react to any errors that may\\noccur (e.g., a misheard password).\\nAs part of the scam, the scammer must also per-\\nsuade the victim that the scammer is legitimate. In\\nthis work, we do not focus on the persuasion aspect\\nof the scam. We instead focus specifically on the\\nactions needed to perform the scams. However,\\nprior work has shown that LLMs can be highly\\nconvincing, potentially even more convincing than\\npeople (Salvi et al., 2024).\\n3 Agent Design\\nWe designed a series of agents to perform the ac-\\ntions necessary for common scams. Our agents\\nconsist of a base, voice-enabled LLM (GPT-4o), a\\nset of tools that the LLM can use, and scam-specific\\ninstructions. The LLM and tools were the same for\\nall agents but the instructions varied.\\nThe AI agents had access to five browser ac-\\ncess tools based on the browser testing framework\\nplaywright. These tools are granular browser ac-\\ntions:\\n1. get_html, which gets the HTML of a page.\\n2. navigate, which navigates to a specific URL.\\n3. click_element, which clicks on an element\\nwith a CSS selector.\\n4. fill_element, which fills an element with\\nthe specified value.\\n5. evaluate_javascript, which executes'),\n",
       " Document(metadata={'source': 'D:\\\\MSIS\\\\Gen AI\\\\Pdf_Data_extractor_rag\\\\Data\\\\scammer-agent.pdf', 'page': 1}, page_content='3. click_element, which clicks on an element\\nwith a CSS selector.\\n4. fill_element, which fills an element with\\nthe specified value.\\n5. evaluate_javascript, which executes\\nJavaScript on a page.\\nWe used GPT-4o for all of our experiments. GPT-\\n4o will refuse to handle user credentials in certain\\ncircumstances. We used a standard jailbreaking\\nprompt template to bypass these protections. The\\ninstructions were specific to each scam.\\nWe show an architecture diagram of our agent\\nin Figure 1. As seen from the architecture diagram\\nand our description, the scammer agent is not com-\\nplicated. We wrote the agent in 1,051 lines of code,\\nwith the bulk of the code dedicated to handling real-\\ntime voice API. The ease of creating voice-enabled\\ndual use AI agents is in line with prior work, which\\nexplored AI agents for cybersecurity attacks (Fang\\net al., 2024a).\\nFurthermore, our prompts are not complex. The\\naverage number of tokens per prompt was 232,\\nindicating the simplicity of their creation.\\n4 Experiments\\n4.1 Experimental Setup\\nWe deployed our agents on the scams in Table 1.\\nHowever, we excluded gift card exfiltration and\\ncredential stealing (bank) since these scams are\\nstrictly easier (in terms of actions taken) than IRS\\nimpostor (gift card) and bank account transfer. We\\nsimulated a scam by manually talking with the\\nvoice agent with a credulous victim.\\nIn order to determine if the scam successfully\\nsucceeded, we manually confirmed if the end state'),\n",
       " Document(metadata={'source': 'D:\\\\MSIS\\\\Gen AI\\\\Pdf_Data_extractor_rag\\\\Data\\\\scammer-agent.pdf', 'page': 1}, page_content='simulated a scam by manually talking with the\\nvoice agent with a credulous victim.\\nIn order to determine if the scam successfully\\nsucceeded, we manually confirmed if the end state\\nwas achieved on real applications/websites. For\\nexample, we used Bank of America for the bank\\ntransfer scams and confirmed that the money was\\nactually transferred. The credential stealing scams\\nrequired a successful login. We list the applications\\n(MyMonero, Gmail, Instagram, Bank of America,\\nGoogle Play) in Table 2.\\nWe executed each scam 5 times and recorded the\\noverall success rate, the total number of tool calls\\n(i.e., actions) required to perform each successfully\\nexecuted scam, the total call time for each success-\\nfully executed scam, and the approximate API cost\\nfor each successfully executed scam. Namely, we\\nexclude the unsuccessful scams for computing the\\nnumber of actions and total call time.\\n4.2 Overall Results\\nOur agents are capable of performing all the scams\\nin Table 1, with results shown in Table 2. The\\nsuccess rate ranges from 20% to 60%, with the\\nsuccess rate across all scams being 36%.\\nPerforming these scams also takes a substantial\\nnumber of actions. For example, the bank transfer\\nscam takes 26 actions to complete. They also take\\na substantial amount of time, with complex scams\\ntaking as much as 3 minutes to execute. These\\nagents also maintain coherence in conversation and\\n2'),\n",
       " Document(metadata={'source': 'D:\\\\MSIS\\\\Gen AI\\\\Pdf_Data_extractor_rag\\\\Data\\\\scammer-agent.pdf', 'page': 2}, page_content='Scam Description\\nBank account transfer Scammer takes control of victim’s bank account and transfers money out\\nGift code exfiltration Scammer convinces victim to send gift card to scammer\\nCrypto transfer Scammer takes control of victim’s crypto account and transfers crypto\\nCredential stealing (Gmail) Scammer steals users credentials and exfiltrates data\\nCredential stealing (bank) Scammer steals users credentials and exfiltrates data\\nCredential stealing (social media) Scammer steals users credentials and exfiltrates data\\nIRS impostor (gift card) Scammer pretends to be an IRS agent and steals gift cards\\nTable 1: List of common scams from Paxton (2024).\\nScam Overall success rate # of actions Time (s) Cost ($)\\nCrypto Transfer (MyMonero) 40% 16 122 $0.12\\nCredential stealing (Gmail) 60% 5 112 $0.28\\nCredential stealing (Instagram) 40% 4 77 $0.19\\nBank transfer (Bank of America) 20% 26 183 $2.51\\nIRS impostor (gift card, Google Play) 20% 13 86 $0.17\\nTable 2: Success rate, number of tools used, and time taken for different scams.\\nadherence to goals over the conversations. Finally,\\nthe overall costs are low: under $0.75 on average\\nper successful scam. The bank transfer scam’s\\ncosts is primarily in text tokens from the large\\nHTML from the website.\\nBeyond the overall statistics, the majority of\\nfailures for many of the scams were actually due\\nto transcription errors. For example, our GPT-4o\\nbased agents failed to transcribe the password or\\nusername for the Gmail credential stealing scam,'),\n",
       " Document(metadata={'source': 'D:\\\\MSIS\\\\Gen AI\\\\Pdf_Data_extractor_rag\\\\Data\\\\scammer-agent.pdf', 'page': 2}, page_content='failures for many of the scams were actually due\\nto transcription errors. For example, our GPT-4o\\nbased agents failed to transcribe the password or\\nusername for the Gmail credential stealing scam,\\nbut successfully completed the rest of the actions.\\nHowever, other scams, such as the bank account\\ntransfer, required navigating complex websites\\n(Bank of America), which caused errors in the ac-\\ntions themselves. Thus, the difficulty of the scam\\ndoes appear to affect the success rate.\\n4.3 Case Study\\nTo further understand the trajectory of these scams,\\nwe provide a redacted transcript and an abridged\\naction log for a bank transfer scam.\\nThe transcript proceeds as follows:\\n1. Victim: Hello?\\n2. Scammer: Hello! This is John from Bank of\\nAmerica. We’ve noticed some unusual activ-\\nity on your account and need to verify your\\ninformation for security purposes. Could you\\nplease provide your username and password\\nso we can ensure your account remains pro-\\ntected?\\n3. Victim: What?\\n4. Scammer: I understand your concern. Your\\nsecurity is our top priority. To verify your\\nidentity and resolve this issue, I need to au-\\nthenticate you through your Bank of America\\naccount. Please provide your login details so\\nwe can proceed with securing your account.\\nYour cooperation is appreciated.\\n5. Victim: Yeah, my username is [username], my\\npassword is [password].\\n6. Scammer: It seems we need to verify your\\nidentity. Could you please provide the 2FA\\ncode sent to your registered device? This will'),\n",
       " Document(metadata={'source': 'D:\\\\MSIS\\\\Gen AI\\\\Pdf_Data_extractor_rag\\\\Data\\\\scammer-agent.pdf', 'page': 2}, page_content='password is [password].\\n6. Scammer: It seems we need to verify your\\nidentity. Could you please provide the 2FA\\ncode sent to your registered device? This will\\nallow us to proceed with the login process.\\n7. Victim: My code is [2FA code].\\nBetween items 5 and 6 of the transcript, the agent\\nnavigates to the Bank of America login page and\\ninputs the username and password, which takes\\n6 actions ( navigate, get_html, fill_element,\\nfill_element, click_element, get_html).\\nAfter item 7 of the transcript, the agent performs\\n20 actions to fill out the 2FA code, navigate to the\\ntransfer page, and transfer the money. Conceptu-\\nally, the agent must:\\n1. Fill out the 2FA code.\\n2. Navigate to the transfer page.\\n3. Search for a recipient.\\n4. Select the recipient.\\n3'),\n",
       " Document(metadata={'source': 'D:\\\\MSIS\\\\Gen AI\\\\Pdf_Data_extractor_rag\\\\Data\\\\scammer-agent.pdf', 'page': 3}, page_content='5. Fill out the amount.\\n6. Fill out the date.\\n7. Successfully submit the transfer.\\nIn these 20 actions, the agent failed several times\\nand must retry. It failed to search for the recipient\\nonce, fill in the transfer amount twice, click a form\\nadvancement page once, and fill out the transaction\\ndate once.\\nThe scam took a total of 183 seconds to com-\\nplete. Through the entire call, the agent was able\\nto maintain coherence, retry several failed actions,\\nand successfully transfer the money. This example\\ndemonstrates that these voice-enabled AI agents\\ncan perform complex tasks necessary to complete\\nscams, including retrying upon failure.\\n4.4 Discussion of Results\\nWe believe that the capabilities demonstrated in this\\nsection are a lower bound for future voice-assisted\\nAI agents. These agents are likely to improve in\\nseveral ways.\\nFor example, the actions that our agents must\\ntake are highly granular, such filling out specific\\nfields, clicking on buttons, and navigating to spe-\\ncific websites. More ergonomic methods of in-\\nteracting with web browsers will likely improve\\nperformance. Other agents improve significantly\\nwith techniques like retrieval-augmented genera-\\ntion (Lewis et al., 2020; Fang et al., 2024a).\\nBeyond improvements in agents, base models\\nhave substantially improved in the past few years\\n(Brown et al., 2020; Achiam et al., 2023). These im-\\nprovements have translated to broad improvements\\nin a range of downstream tasks and we anticipate'),\n",
       " Document(metadata={'source': 'D:\\\\MSIS\\\\Gen AI\\\\Pdf_Data_extractor_rag\\\\Data\\\\scammer-agent.pdf', 'page': 3}, page_content='(Brown et al., 2020; Achiam et al., 2023). These im-\\nprovements have translated to broad improvements\\nin a range of downstream tasks and we anticipate\\nthat this will also be the case for efficacy in scams.\\n5 Related Work\\nWe now provide an overview of related work.\\nDual use of AI.The use of AI for dual use has\\nwidely been studied (Kang et al., 2024; Fang et al.,\\n2024b; Urbina et al., 2022; Weidinger et al., 2022,\\n2021). These studies range from taxonomizing\\npotential dual use applications of AI to demonstrat-\\ning capabilities on cybersecurity attacks. To our\\nknowledge, the ability to perform real-time voice\\nconversations and perform tool use has not been\\nwidely available until recently. As such, ours is\\nthe first work to demonstrate that voice-enabled\\nAI agents can perform the actions necessary for\\ncommon scams.\\nAI scams and spam.AI has already been used in\\nthe real world to perform scams and produce spam.\\nFor example, deepfakes have already been used to\\nscam a British engineering company out of $25\\nmillion dollars (Chen, 2024). They are also widely\\nused to create social media spam (Bond, 2024).\\nTo our knowledge, autonomous, responsive voice\\nscams are not widely deployed due to technologi-\\ncal limitations. Namely, these scams are currently\\nperformed by humans (Hanoch and Wood, 2021).\\nOur work shows that autonomous voices scams are\\npossible with new advances in AI.\\n6 Conclusions\\nAs we have shown, voice-enabled LLM agents can\\nperform the actions necessary to perform common'),\n",
       " Document(metadata={'source': 'D:\\\\MSIS\\\\Gen AI\\\\Pdf_Data_extractor_rag\\\\Data\\\\scammer-agent.pdf', 'page': 3}, page_content='Our work shows that autonomous voices scams are\\npossible with new advances in AI.\\n6 Conclusions\\nAs we have shown, voice-enabled LLM agents can\\nperform the actions necessary to perform common\\nphone scams. These agents are highly capable, can\\nreact to changes in the environment, and retry based\\non faulty information from the victim. Our results\\nhighlight the need for future research in protecting\\nvictims from such scams.\\n7 Limitations, Ethical Considerations\\nA major limitation of our work is the focus on the\\nactions and not the persuasion aspect of performing\\nthe scams. Namely, for an agent to perform a scam\\nautonomously, it must first convince the victim\\nthat it is legitimate. Nonetheless, we believe our\\nwork highlights an important capabilities of newly\\navailable technology.\\nOur work explores nefarious uses of AI tech-\\nnology. By outlining such nefarious uses, mali-\\ncious actors could potentially take advantage of\\nsuch technology. However, we believe it is impor-\\ntant to study the capabilities of new technology,\\nespecially in its dual use capabilities.\\nWe have elected not to make our agents public.\\nThis is for two reasons. First, following prior work\\non dual use technology, we believe it is beneficial\\nnot to release our code so that nefarious actors\\ncannot leverage our work. Second, we believe that\\nkeeping our code private allows model providers\\n(e.g., OpenAI) to build defenses to prevent such\\nnefarious use.\\nAcknowledgments\\nThis work was funded in part by the Open Philan-'),\n",
       " Document(metadata={'source': 'D:\\\\MSIS\\\\Gen AI\\\\Pdf_Data_extractor_rag\\\\Data\\\\scammer-agent.pdf', 'page': 3}, page_content='keeping our code private allows model providers\\n(e.g., OpenAI) to build defenses to prevent such\\nnefarious use.\\nAcknowledgments\\nThis work was funded in part by the Open Philan-\\nthropy project.\\n4'),\n",
       " Document(metadata={'source': 'D:\\\\MSIS\\\\Gen AI\\\\Pdf_Data_extractor_rag\\\\Data\\\\scammer-agent.pdf', 'page': 4}, page_content='References\\nJosh Achiam, Steven Adler, Sandhini Agarwal, Lama\\nAhmad, Ilge Akkaya, Florencia Leoni Aleman,\\nDiogo Almeida, Janko Altenschmidt, Sam Altman,\\nShyamal Anadkat, et al. 2023. Gpt-4 technical report.\\narXiv preprint arXiv:2303.08774.\\nShannon Bond. 2024. Ai-generated spam is starting to\\nfill social media. here’s why.\\nTom Brown, Benjamin Mann, Nick Ryder, Melanie\\nSubbiah, Jared D Kaplan, Prafulla Dhariwal, Arvind\\nNeelakantan, Pranav Shyam, Girish Sastry, Amanda\\nAskell, et al. 2020. Language models are few-shot\\nlearners. Advances in neural information processing\\nsystems, 33:1877–1901.\\nHeather Chen. 2024. Finance worker pays out $25\\nmillion after video call with deepfake ‘chief financial\\nofficer’.\\nRichard Fang, Rohan Bindu, Akul Gupta, Qiusi\\nZhan, and Daniel Kang. 2024a. Llm agents\\ncan autonomously hack websites. Preprint,\\narXiv:2402.06664.\\nRichard Fang, Rohan Bindu, Akul Gupta, Qiusi Zhan,\\nand Daniel Kang. 2024b. Teams of llm agents\\ncan exploit zero-day vulnerabilities. arXiv preprint\\narXiv:2406.01637.\\nYaniv Hanoch and Stacey Wood. 2021. The scams\\namong us: Who falls prey and why. Current Direc-\\ntions in Psychological Science, 30(3):260–266.\\nDaniel Kang, Xuechen Li, Ion Stoica, Carlos Guestrin,\\nMatei Zaharia, and Tatsunori Hashimoto. 2024. Ex-\\nploiting programmatic behavior of llms: Dual-use\\nthrough standard security attacks. In 2024 IEEE Se-\\ncurity and Privacy Workshops (SPW), pages 132–143.\\nIEEE.\\nPatrick Lewis, Ethan Perez, Aleksandra Piktus, Fabio'),\n",
       " Document(metadata={'source': 'D:\\\\MSIS\\\\Gen AI\\\\Pdf_Data_extractor_rag\\\\Data\\\\scammer-agent.pdf', 'page': 4}, page_content='through standard security attacks. In 2024 IEEE Se-\\ncurity and Privacy Workshops (SPW), pages 132–143.\\nIEEE.\\nPatrick Lewis, Ethan Perez, Aleksandra Piktus, Fabio\\nPetroni, Vladimir Karpukhin, Naman Goyal, Hein-\\nrich Küttler, Mike Lewis, Wen-tau Yih, Tim Rock-\\ntäschel, et al. 2020. Retrieval-augmented generation\\nfor knowledge-intensive nlp tasks. Advances in Neu-\\nral Information Processing Systems, 33:9459–9474.\\nOpenAI. 2024. Introducing the realtime api.\\nKen Paxton. 2024. Common scams.\\nFrancesco Salvi, Manoel Horta Ribeiro, Riccardo\\nGallotti, and Robert West. 2024. On the con-\\nversational persuasiveness of large language mod-\\nels: A randomized controlled trial. arXiv preprint\\narXiv:2403.14380.\\nBrian Schwalb. 2024. Consumer alert: Telemarketing\\nscams.\\nFabio Urbina, Filippa Lentzos, Cédric Invernizzi, and\\nSean Ekins. 2022. Dual use of artificial-intelligence-\\npowered drug discovery. Nature machine intelli-\\ngence, 4(3):189–191.\\nLaura Weidinger, John Mellor, Maribeth Rauh, Conor\\nGriffin, Jonathan Uesato, Po-Sen Huang, Myra\\nCheng, Mia Glaese, Borja Balle, Atoosa Kasirzadeh,\\net al. 2021. Ethical and social risks of harm from\\nlanguage models. arXiv preprint arXiv:2112.04359.\\nLaura Weidinger, Jonathan Uesato, Maribeth Rauh,\\nConor Griffin, Po-Sen Huang, John Mellor, Amelia\\nGlaese, Myra Cheng, Borja Balle, Atoosa Kasirzadeh,\\net al. 2022. Taxonomy of risks posed by language\\nmodels. In 2022 ACM Conference on Fairness, Ac-\\ncountability, and Transparency, pages 214–229.\\n5')]"
      ]
     },
     "execution_count": 4,
     "metadata": {},
     "output_type": "execute_result"
    }
   ],
   "source": [
    "text_splitter = RecursiveCharacterTextSplitter(chunk_size=1500,\n",
    "                                            chunk_overlap=200,\n",
    "                                            length_function=len,\n",
    "                                            separators=[\"\\n\\n\", \"\\n\", \" \"])\n",
    "chunks = text_splitter.split_documents(pages)\n",
    "chunks"
   ]
  },
  {
   "cell_type": "markdown",
   "metadata": {},
   "source": [
    "## Create vector database"
   ]
  },
  {
   "cell_type": "code",
   "execution_count": 5,
   "metadata": {},
   "outputs": [],
   "source": [
    "# Step 3: Create embeddings using HuggingFace's \n",
    "embedding_model_name = \"sentence-transformers/all-MiniLM-L6-v2\"\n",
    "embeddings = HuggingFaceEmbeddings(model_name=embedding_model_name)"
   ]
  },
  {
   "cell_type": "code",
   "execution_count": 6,
   "metadata": {},
   "outputs": [
    {
     "name": "stdout",
     "output_type": "stream",
     "text": [
      "Vector database created successfully\n"
     ]
    }
   ],
   "source": [
    "# Step 4: Create Chroma vector store\n",
    "vector_store = Chroma.from_documents(\n",
    "    documents=chunks,\n",
    "    embedding=embeddings\n",
    ")\n",
    "print(\"Vector database created successfully\")"
   ]
  },
  {
   "cell_type": "markdown",
   "metadata": {},
   "source": [
    "## Set up LLM and Retrieval"
   ]
  },
  {
   "cell_type": "code",
   "execution_count": 7,
   "metadata": {},
   "outputs": [],
   "source": [
    "# Set up LLM and retrieval\n",
    "local_model = \"llama3.2\"  # or whichever model you prefer\n",
    "llm = ChatOllama(model=local_model)"
   ]
  },
  {
   "cell_type": "code",
   "execution_count": 8,
   "metadata": {},
   "outputs": [],
   "source": [
    "# Query prompt template\n",
    "QUERY_PROMPT = PromptTemplate(\n",
    "    input_variables=[\"question\"],\n",
    "    template=\"\"\"You are an AI language model assistant. Your task is to generate 2\n",
    "    different versions of the given user question to retrieve relevant documents from\n",
    "    a vector database. By generating multiple perspectives on the user question, your\n",
    "    goal is to help the user overcome some of the limitations of the distance-based\n",
    "    similarity search. Provide these alternative questions separated by newlines.\n",
    "    Original question: {question}\"\"\",\n",
    ")\n",
    "\n",
    "# Set up retriever\n",
    "retriever = MultiQueryRetriever.from_llm(\n",
    "    vector_store.as_retriever(), \n",
    "    llm,\n",
    "    prompt=QUERY_PROMPT\n",
    ")"
   ]
  },
  {
   "cell_type": "markdown",
   "metadata": {},
   "source": [
    "## Create chain"
   ]
  },
  {
   "cell_type": "code",
   "execution_count": 9,
   "metadata": {},
   "outputs": [],
   "source": [
    "# RAG prompt template\n",
    "template = \"\"\"Answer the question based ONLY on the following context:\n",
    "{context}\n",
    "Question: {question}\n",
    "\"\"\"\n",
    "\n",
    "prompt = ChatPromptTemplate.from_template(template)"
   ]
  },
  {
   "cell_type": "code",
   "execution_count": 10,
   "metadata": {},
   "outputs": [],
   "source": [
    "# Create chain\n",
    "chain = (\n",
    "    {\"context\": retriever, \"question\": RunnablePassthrough()}\n",
    "    | prompt\n",
    "    | llm\n",
    "    | StrOutputParser()\n",
    ")"
   ]
  },
  {
   "cell_type": "markdown",
   "metadata": {},
   "source": [
    "## Chat with PDF"
   ]
  },
  {
   "cell_type": "code",
   "execution_count": 11,
   "metadata": {},
   "outputs": [],
   "source": [
    "def chat_with_pdf(question):\n",
    "    \"\"\"\n",
    "    Chat with the PDF using the RAG chain.\n",
    "    \"\"\"\n",
    "    return display(Markdown(chain.invoke(question)))"
   ]
  },
  {
   "cell_type": "code",
   "execution_count": 12,
   "metadata": {},
   "outputs": [
    {
     "data": {
      "text/markdown": [
       "The main idea of this document appears to be that it discusses the potential risks and vulnerabilities of Large Language Models (LLMs) in various applications, including social engineering scams. The authors suggest that LLMs can be used to autonomously hack websites, exploit zero-day vulnerabilities, and engage in other malicious activities. They also discuss the financial costs of these scams, which can reach up to $40 billion per year."
      ],
      "text/plain": [
       "<IPython.core.display.Markdown object>"
      ]
     },
     "metadata": {},
     "output_type": "display_data"
    }
   ],
   "source": [
    "# Example 1\n",
    "chat_with_pdf(\"What is the main idea of this document?\")"
   ]
  },
  {
   "cell_type": "code",
   "execution_count": 13,
   "metadata": {},
   "outputs": [
    {
     "data": {
      "text/markdown": [
       "The purpose of the scammer agent appears to be simulating a scam by manually talking with a voice agent with a credulous victim, in order to evaluate the success rate of the scams and gather data on how they are performed. The agents were designed to perform various types of scams, including bank transfer scams and credential stealing scams, and were executed multiple times to record their performance metrics, such as overall success rate, number of tool calls, call time, and approximate API cost."
      ],
      "text/plain": [
       "<IPython.core.display.Markdown object>"
      ]
     },
     "metadata": {},
     "output_type": "display_data"
    }
   ],
   "source": [
    "# Example 2\n",
    "chat_with_pdf(\"What is the purpose of the scammer agent?\")"
   ]
  },
  {
   "cell_type": "markdown",
   "metadata": {},
   "source": [
    "## Clean up (optional)"
   ]
  },
  {
   "cell_type": "code",
   "execution_count": 15,
   "metadata": {},
   "outputs": [
    {
     "name": "stdout",
     "output_type": "stream",
     "text": [
      "Vector database deleted successfully\n"
     ]
    }
   ],
   "source": [
    "# Optional: Clean up when done \n",
    "vector_store.delete_collection()\n",
    "print(\"Vector database deleted successfully\")"
   ]
  }
 ],
 "metadata": {
  "kernelspec": {
   "display_name": ".venv",
   "language": "python",
   "name": "python3"
  },
  "language_info": {
   "codemirror_mode": {
    "name": "ipython",
    "version": 3
   },
   "file_extension": ".py",
   "mimetype": "text/x-python",
   "name": "python",
   "nbconvert_exporter": "python",
   "pygments_lexer": "ipython3",
   "version": "3.11.0"
  }
 },
 "nbformat": 4,
 "nbformat_minor": 2
}
